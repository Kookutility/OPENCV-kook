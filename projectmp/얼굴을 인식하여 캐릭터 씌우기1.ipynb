{
 "cells": [
  {
   "cell_type": "code",
   "execution_count": 19,
   "id": "3d0960b6",
   "metadata": {
    "scrolled": false
   },
   "outputs": [],
   "source": [
    "import cv2\n",
    "import mediapipe as mp\n",
    "#얼굴을 찾고, 찾은 얼굴에 표시를 해주기 위한 변수 정의\n",
    "mp_face_detection = mp.solutions.face_detection# 얼굴 검출을 위한 face_detection 모듈을 사용\n",
    "mp_drawing = mp.solutions.drawing_utils# 얼굴의 특징을 그리기 위한 drawing_utils 모듈을 사용\n",
    "\n",
    "#동영상 파일 열기\n",
    "cap = cv2.VideoCapture('face_video.mp4')\n",
    "\n",
    "#model_selection=0 -> 가까운 거리, =1 -> 5m이상 거리 사람, mindetection->0.5 50%이상신뢰도로 얼굴 인지\n",
    "with mp_face_detection.FaceDetection(\n",
    "    model_selection=0, min_detection_confidence=0.7) as face_detection:\n",
    "    while cap.isOpened():\n",
    "        success, image = cap.read()\n",
    "        if not success:\n",
    "            continue\n",
    "        # 보기 편하기 위해 이미지를 좌우를 반전하고, BGR 이미지를 RGB로 변환합니다.\n",
    "        image = cv2.cvtColor(cv2.flip(image, 1), cv2.COLOR_BGR2RGB)\n",
    "        # 성능을 향상시키려면 이미지를 작성 여부를 False으로 설정하세요.\n",
    "        image.flags.writeable = False\n",
    "        results = face_detection.process(image)\n",
    "\n",
    "        # 영상에 얼굴 감지 주석 그리기 기본값 : True.\n",
    "        image.flags.writeable = True\n",
    "        image = cv2.cvtColor(image, cv2.COLOR_RGB2BGR)\n",
    "        \n",
    "        if results.detections:\n",
    "        #6개의 특징 : 오른쪽 눈, 왼쪽 눈, 코 끝부분 , 입 중간부분, 오른쪽 귀 , 왼쪽 귀\n",
    "            for detection in results.detections:\n",
    "                mp_drawing.draw_detection(image, detection)\n",
    "                #print(detection)\n",
    "                \n",
    "                #특정 위치 가져오기\n",
    "                keypoints= detection.location_data.relative_keypoints\n",
    "                right_eye = keypoints[0] # 오른쪽 눈\n",
    "                left_eye = keypoints[1] # 왼쪽 눈\n",
    "                nose_tip = keypoints[2] # 코 끝\n",
    "                \n",
    "                h, w, _ = image.shape# height,width,channel: 이미지로부터 세로, 가로 크기 가져오기\n",
    "                right_eye = (int(right_eye.x*w), int(right_eye.y*h)) # 이미지 내에서 실제 좌표 (x,y)\n",
    "                left_eye = (int(left_eye.x*w), int(left_eye.y*h))\n",
    "                nose_tip = (int(nose_tip.x*w), int(nose_tip.y*h))\n",
    "                #양 눈에 동그라미 그리기\n",
    "                cv2.circle(image,right_eye,50,(255,0,0),10,cv2.LINE_AA)#파란색\n",
    "                cv2.circle(image,left_eye,50,(0,255,0),10,cv2.LINE_AA)#초록색\n",
    "                cv2.circle(image,nose_tip,50,(0,255,255),10,cv2.LINE_AA)#초록색\n",
    "        flipped_image = cv2.flip(image, 1)\n",
    "        resized_image = cv2.resize(flipped_image, None, fx=0.5, fy=0.5)\n",
    "        cv2.imshow('MediaPipe Face Detection', resized_image)\n",
    "        if cv2.waitKey(1) == ord ('q'):\n",
    "            break\n",
    "cap.release()\n",
    "cv2.destroyAllWindows()"
   ]
  },
  {
   "cell_type": "code",
   "execution_count": 9,
   "id": "698f8b8a",
   "metadata": {},
   "outputs": [],
   "source": []
  },
  {
   "cell_type": "code",
   "execution_count": null,
   "id": "ec96c7de",
   "metadata": {},
   "outputs": [],
   "source": []
  },
  {
   "cell_type": "code",
   "execution_count": null,
   "id": "0b2f5431",
   "metadata": {},
   "outputs": [],
   "source": []
  }
 ],
 "metadata": {
  "kernelspec": {
   "display_name": "python3_7_0",
   "language": "python",
   "name": "python3_7_0"
  },
  "language_info": {
   "codemirror_mode": {
    "name": "ipython",
    "version": 3
   },
   "file_extension": ".py",
   "mimetype": "text/x-python",
   "name": "python",
   "nbconvert_exporter": "python",
   "pygments_lexer": "ipython3",
   "version": "3.11.5"
  }
 },
 "nbformat": 4,
 "nbformat_minor": 5
}
