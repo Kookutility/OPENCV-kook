{
 "cells": [
  {
   "cell_type": "markdown",
   "id": "66f786b6",
   "metadata": {},
   "source": [
    "# 12. 이미지 변형 (원근)"
   ]
  },
  {
   "cell_type": "markdown",
   "id": "5cd09d3c",
   "metadata": {},
   "source": [
    "## 사다리꼴 이미지 펼치기"
   ]
  },
  {
   "cell_type": "code",
   "execution_count": 32,
   "id": "e1dd07d4",
   "metadata": {},
   "outputs": [],
   "source": [
    "import cv2\n",
    "import numpy as np\n",
    "img = cv2.imread('newspaper.jpg')\n",
    "\n",
    "width, height = 640, 340 # 가로 세로 크기 설정\n",
    "\n",
    "src = np.array([[511,352],[1008,345],[1122,584],[455,594]],dtype=np.float32) # input 4개의 점\n",
    "dst = np.array([[0,0],[width,0],[width,height],[0,height]],dtype=np.float32)\n",
    "# 좌상, 우상, 우하, 좌하(시계방향으로 4지점 정의 )\n",
    "matrix = cv2.getPerspectiveTransform(src,dst)# matrix 얻어오기\n",
    "result = cv2.warpPerspective(img,matrix,(width,height)) #행렬값 적용후 결과 \n",
    "\n",
    "cv2.imshow('img',img)\n",
    "cv2.imshow('result',result)\n",
    "cv2.waitKey(0)\n",
    "cv2.destroyAllWindows()"
   ]
  },
  {
   "cell_type": "markdown",
   "id": "1a62cb4a",
   "metadata": {},
   "source": [
    "## 회전된 이미지 올바로 세우기"
   ]
  },
  {
   "cell_type": "code",
   "execution_count": 9,
   "id": "363ec118",
   "metadata": {},
   "outputs": [],
   "source": [
    "import cv2\n",
    "import numpy as np\n",
    "img = cv2.imread('poker.jpg')\n",
    "\n",
    "width, height = 530, 710 # 가로 세로 크기 설정\n",
    "\n",
    "src = np.array([[702,143],[1133,414],[726,1007],[276,700]],dtype=np.float32) # input 4개의 점\n",
    "dst = np.array([[0,0],[width,0],[width,height],[0,height]],dtype=np.float32)\n",
    "# 좌상, 우상, 우하, 좌하(시계방향으로 4지점 정의)\n",
    "\n",
    "matrix = cv2.getPerspectiveTransform(src,dst)# matrix 얻어오기\n",
    "result = cv2.warpPerspective(img,matrix,(width,height)) #행렬값 적용후 결과 \n",
    "\n",
    "cv2.imshow('img',img)\n",
    "cv2.imshow('result',result)\n",
    "cv2.waitKey(0)\n",
    "cv2.destroyAllWindows()"
   ]
  },
  {
   "cell_type": "markdown",
   "id": "13736968",
   "metadata": {},
   "source": [
    "## 미니 프로젝트 : 반자동 문서 스캐너"
   ]
  },
  {
   "cell_type": "markdown",
   "id": "090867f5",
   "metadata": {},
   "source": [
    "### 마우스 이벤트 등록"
   ]
  },
  {
   "cell_type": "code",
   "execution_count": 52,
   "id": "5a2c1f00",
   "metadata": {},
   "outputs": [],
   "source": [
    "import cv2\n",
    "\n",
    "def mouse_handler(event,x,y,flags,param):\n",
    "    if event == cv2.EVENT_LBUTTONDOWN:#마우스 왼쪽 버튼 down\n",
    "        print('왼쪽 버튼 Down')\n",
    "        print(x,y)\n",
    "    elif event == cv2.EVENT_LBUTTONUP: #마우스 왼쪽 버튼 up\n",
    "        print('왼쪽 버튼 up')\n",
    "        print(x,y)\n",
    "    elif event ==cv2.EVENT_LBUTTONDBLCLK:\n",
    "        print('왼쪽 버튼 double')\n",
    "        print(x,y)\n",
    "    #elif event == cv2.EVENT_MOUSEMOVE:\n",
    "       # print('마우스 이동')\n",
    "    elif event == cv2.EVENT_RBUTTONDOWN:\n",
    "        print('오른쪽 버튼 Down')\n",
    "        print(x,y)\n",
    "img = cv2.imread('poker.jpg')\n",
    "cv2.namedWindow('img')#img 란 이름의 윈도우를 먼저 만들어 두는 것, 여기에 마우스 이벤트 처리하기 위한 헨들러 적용\n",
    "cv2.setMouseCallback('img',mouse_handler)\n",
    "cv2.imshow('img',img)\n",
    "cv2.waitKey(0)\n",
    "cv2.destroyAllWindows()"
   ]
  },
  {
   "cell_type": "markdown",
   "id": "82345e48",
   "metadata": {},
   "source": [
    "### 프로젝트\n"
   ]
  },
  {
   "cell_type": "code",
   "execution_count": 50,
   "id": "7d3e1b2c",
   "metadata": {},
   "outputs": [],
   "source": [
    "import cv2\n",
    "import numpy as np\n",
    "\n",
    "point_list=[]\n",
    "\n",
    "src_img= cv2.imread('poker.jpg')\n",
    "\n",
    "COLOR=(255,0,255) # 핑크\n",
    "THICKNESS = 3\n",
    "drawing = False # 선을 그릴지 여부\n",
    "\n",
    "def mouse_handler(event,x,y,flags,param):\n",
    "    global drawing\n",
    "    dst_img=src_img.copy()\n",
    "    \n",
    "    if event == cv2.EVENT_LBUTTONDOWN:#마우스 왼쪽 버튼 down\n",
    "        drawing = True #선을그리기 시작\n",
    "        point_list.append((x,y))\n",
    "        \n",
    "    if drawing :\n",
    "        prev_point = None # 직선의 시작점\n",
    "        first_point = 1\n",
    "        for point in point_list:\n",
    "            cv2.circle(dst_img,point,5,COLOR,cv2.FILLED)\n",
    "            if prev_point:\n",
    "                cv2.line(dst_img,prev_point,point,COLOR,THICKNESS,cv2.LINE_AA)\n",
    "            prev_point = point \n",
    "        next_point=(x,y)\n",
    "        cv2.line(dst_img,prev_point,next_point,COLOR,THICKNESS,cv2.LINE_AA)\n",
    "        \n",
    "    if len(point_list)==4:\n",
    "        #prev_point = point_list[0] #깔끔한 선정리를 위해 첫점, 끝점 연결\n",
    "        #cv2.line(src_img,point,prev_point,COLOR,THICKNESS,cv2.LINE_AA)\n",
    "        show_result()# 결과 출력\n",
    "        next_point = point_list[0] #깔끔한 선정리를 위해 첫점, 끝점 연결\n",
    "        cv2.line(src_img,prev_point,next_point,COLOR,THICKNESS,cv2.LINE_AA)\n",
    "    cv2.imshow('img',dst_img)   \n",
    "def show_result():\n",
    "    \n",
    "    width, height = 530, 710 # 가로 세로 크기 설정\n",
    "\n",
    "    src = np.float32(point_list)\n",
    "    dst = np.array([[0,0],[width,0],[width,height],[0,height]],dtype=np.float32)\n",
    "    # 좌상, 우상, 우하, 좌하(시계방향으로 4지점 정의)\n",
    "    \n",
    "    matrix = cv2.getPerspectiveTransform(src,dst)# matrix 얻어오기\n",
    "    result = cv2.warpPerspective(src_img,matrix,(width,height)) #행렬값 적용후 결과 \n",
    "    cv2.imshow('result',result)\n",
    "    \n",
    "img = cv2.imread('poker.jpg')\n",
    "cv2.namedWindow('img')#img 란 이름의 윈도우를 먼저 만들어 두는 것, 여기에 마우스 이벤트 처리하기 위한 헨들러 적용\n",
    "cv2.setMouseCallback('img',mouse_handler)\n",
    "cv2.imshow('img',src_img)\n",
    "cv2.waitKey(0)\n",
    "cv2.destroyAllWindows()"
   ]
  }
 ],
 "metadata": {
  "kernelspec": {
   "display_name": "Python 3 (ipykernel)",
   "language": "python",
   "name": "python3"
  },
  "language_info": {
   "codemirror_mode": {
    "name": "ipython",
    "version": 3
   },
   "file_extension": ".py",
   "mimetype": "text/x-python",
   "name": "python",
   "nbconvert_exporter": "python",
   "pygments_lexer": "ipython3",
   "version": "3.11.4"
  }
 },
 "nbformat": 4,
 "nbformat_minor": 5
}
