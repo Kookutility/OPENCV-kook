{
 "cells": [
  {
   "cell_type": "markdown",
   "id": "912d306f",
   "metadata": {},
   "source": [
    "## OpenCV를 이용하여 가로로 찰영된 영상을 세로로 회전하는 프로그램을 작성하시오"
   ]
  },
  {
   "cell_type": "markdown",
   "id": "d03e778e",
   "metadata": {},
   "source": [
    "### 조건\n",
    "1. 회전 : 시계 반대방향으로 90도\n",
    "1. 재생속도 (FPS) : 원본 X 4 배\n",
    "1. 출력 파일명 : city_output.avi(코덱:DIVX)"
   ]
  },
  {
   "cell_type": "code",
   "execution_count": 10,
   "id": "70dcef15",
   "metadata": {},
   "outputs": [],
   "source": [
    "import cv2\n",
    "\n",
    "cap = cv2.VideoCapture('city.mp4')\n",
    "\n",
    "fourcc = cv2.VideoWriter_fourcc(*'DIVX')\n",
    "\n",
    "width = round(cap.get(cv2.CAP_PROP_FRAME_WIDTH))\n",
    "height=round(cap.get(cv2.CAP_PROP_FRAME_HEIGHT))\n",
    "fps = cap.get(cv2.CAP_PROP_FPS) *4 \n",
    "\n",
    "out = cv2.VideoWriter('city_fast.avi',fourcc,fps,(width,height))\n",
    "while cap.isOpened:\n",
    "    ret, frame = cap.read()\n",
    "    if not ret:\n",
    "        break;\n",
    "    city = cv2.rotate(frame, cv2.ROTATE_90_COUNTERCLOCKWISE)   \n",
    "    out.write(city)\n",
    "    cv2.imshow('city',frame)\n",
    "        \n",
    "    if cv2.waitKey(1)== ord('q'):\n",
    "        break\n",
    "out.release()            \n",
    "cap.release() \n",
    "cv2.destroyAllWindows()"
   ]
  }
 ],
 "metadata": {
  "kernelspec": {
   "display_name": "Python 3 (ipykernel)",
   "language": "python",
   "name": "python3"
  },
  "language_info": {
   "codemirror_mode": {
    "name": "ipython",
    "version": 3
   },
   "file_extension": ".py",
   "mimetype": "text/x-python",
   "name": "python",
   "nbconvert_exporter": "python",
   "pygments_lexer": "ipython3",
   "version": "3.11.4"
  }
 },
 "nbformat": 4,
 "nbformat_minor": 5
}
