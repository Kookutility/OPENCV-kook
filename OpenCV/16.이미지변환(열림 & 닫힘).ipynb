{
 "cells": [
  {
   "cell_type": "markdown",
   "id": "905ec0cd",
   "metadata": {},
   "source": [
    "# 16.이미지변환(열림 & 닫힘)\n"
   ]
  },
  {
   "cell_type": "markdown",
   "id": "09d70928",
   "metadata": {},
   "source": [
    "## 열림(Opening): 침식 후 팽창. 깎아서 노이즈 제거 후 살 찌움\n",
    ">dilate(erode(image))"
   ]
  },
  {
   "cell_type": "code",
   "execution_count": 5,
   "id": "8b4af01d",
   "metadata": {},
   "outputs": [],
   "source": [
    "import cv2\n",
    "import numpy as np\n",
    "\n",
    "kernel = np.ones((3,3),dtype=np.uint8)\n",
    "\n",
    "img = cv2.imread('erode.png', cv2.IMREAD_GRAYSCALE)\n",
    "\n",
    "\n",
    "erode = cv2.erode(img, kernel,iterations=4)\n",
    "dilate=cv2.dilate(erode,kernel,iterations=4)\n",
    "\n",
    "cv2.imshow('img',img)\n",
    "cv2.imshow('erode',erode)\n",
    "cv2.imshow('dilate',dilate)\n",
    "cv2.waitKey(0)\n",
    "cv2.destroyAllWindows()\n"
   ]
  },
  {
   "cell_type": "markdown",
   "id": "dc422918",
   "metadata": {},
   "source": [
    "## 닫힘(closing): 팽창 후 침식, 구멍을 메운 후 다시 깎음\n",
    ">erode(dilate(image))"
   ]
  },
  {
   "cell_type": "code",
   "execution_count": 10,
   "id": "1b84c832",
   "metadata": {},
   "outputs": [],
   "source": [
    "import cv2\n",
    "import numpy as np\n",
    "\n",
    "kernel = np.ones((3,3),dtype=np.uint8)\n",
    "\n",
    "img = cv2.imread('dilate.png', cv2.IMREAD_GRAYSCALE)\n",
    "\n",
    "dilate=cv2.dilate(img,kernel,iterations=4)\n",
    "erode = cv2.erode(dilate, kernel,iterations=4)\n",
    "\n",
    "cv2.imshow('img',img)\n",
    "cv2.imshow('erode',erode)\n",
    "cv2.imshow('dilate',dilate)\n",
    "cv2.waitKey(0)\n",
    "cv2.destroyAllWindows()\n"
   ]
  }
 ],
 "metadata": {
  "kernelspec": {
   "display_name": "Python 3 (ipykernel)",
   "language": "python",
   "name": "python3"
  },
  "language_info": {
   "codemirror_mode": {
    "name": "ipython",
    "version": 3
   },
   "file_extension": ".py",
   "mimetype": "text/x-python",
   "name": "python",
   "nbconvert_exporter": "python",
   "pygments_lexer": "ipython3",
   "version": "3.11.4"
  }
 },
 "nbformat": 4,
 "nbformat_minor": 5
}
