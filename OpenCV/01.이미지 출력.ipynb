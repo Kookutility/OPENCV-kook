{
 "cells": [
  {
   "cell_type": "markdown",
   "id": "68b139fb",
   "metadata": {},
   "source": [
    "# 환경설정\n",
    "Anaconda Prompt 에서 다음 명령 수행\n",
    ">pip install opencv-python"
   ]
  },
  {
   "cell_type": "code",
   "execution_count": 2,
   "id": "00588404",
   "metadata": {},
   "outputs": [
    {
     "data": {
      "text/plain": [
       "'4.8.0'"
      ]
     },
     "execution_count": 2,
     "metadata": {},
     "output_type": "execute_result"
    }
   ],
   "source": [
    "import cv2\n",
    "cv2.__version__"
   ]
  },
  {
   "cell_type": "markdown",
   "id": "2c4eed13",
   "metadata": {},
   "source": [
    "# OpenCV(Computer Vision)\n",
    "다양한 영상(이미지)/동영상 처리에 사용되는 오픈소스 라이브러리"
   ]
  },
  {
   "cell_type": "markdown",
   "id": "15cfb4ad",
   "metadata": {},
   "source": [
    "# 1.이미지 출력\n"
   ]
  },
  {
   "cell_type": "code",
   "execution_count": 20,
   "id": "e8295fc1",
   "metadata": {},
   "outputs": [
    {
     "name": "stdout",
     "output_type": "stream",
     "text": [
      "97\n"
     ]
    }
   ],
   "source": [
    "import cv2\n",
    "img=cv2.imread('img.jpg')\n",
    "cv2.imshow('logy',img)\n",
    "key=cv2.waitKey(0)\n",
    "print(key)\n",
    "cv2.destroyAllWindows()"
   ]
  },
  {
   "cell_type": "markdown",
   "id": "3fbbbfce",
   "metadata": {},
   "source": [
    "## 읽기옵션\n",
    "1.cv2.IMREAD_COLOR: 컬러이미지, 투명 영역은 무시(기본값)\n",
    "1.cv2.IMREAD_GRAYSCALE: 흑백이미지\n",
    "1.cv2.IMREAD_UNCHANGED:투명 영역까지 포함"
   ]
  },
  {
   "cell_type": "code",
   "execution_count": 1,
   "id": "25decfdd",
   "metadata": {},
   "outputs": [],
   "source": [
    "import cv2\n",
    "img_color= cv2.imread('img.jpg',cv2.IMREAD_COLOR)\n",
    "img_gray= cv2.imread('img.jpg',cv2.IMREAD_GRAYSCALE)\n",
    "img_unchanged= cv2.imread('img.jpg',cv2.IMREAD_UNCHANGED)\n",
    "cv2.imshow('img_color',img_color)\n",
    "cv2.imshow('img_gray',img_gray)\n",
    "cv2.imshow('img_unchanged',img_unchanged)\n",
    "cv2.waitKey(0)\n",
    "cv2.destroyAllWindows()"
   ]
  },
  {
   "cell_type": "markdown",
   "id": "f4c4d9ab",
   "metadata": {},
   "source": [
    "## Shape\n",
    "이미지의 height, width, channer 정보"
   ]
  },
  {
   "cell_type": "code",
   "execution_count": 3,
   "id": "c8282096",
   "metadata": {},
   "outputs": [
    {
     "data": {
      "text/plain": [
       "(391, 640, 3)"
      ]
     },
     "execution_count": 3,
     "metadata": {},
     "output_type": "execute_result"
    }
   ],
   "source": [
    "import cv2\n",
    "img= cv2.imread('img.jpg')\n",
    "img.shape # 세로,가로,channel"
   ]
  }
 ],
 "metadata": {
  "kernelspec": {
   "display_name": "Python 3 (ipykernel)",
   "language": "python",
   "name": "python3"
  },
  "language_info": {
   "codemirror_mode": {
    "name": "ipython",
    "version": 3
   },
   "file_extension": ".py",
   "mimetype": "text/x-python",
   "name": "python",
   "nbconvert_exporter": "python",
   "pygments_lexer": "ipython3",
   "version": "3.11.4"
  }
 },
 "nbformat": 4,
 "nbformat_minor": 5
}
