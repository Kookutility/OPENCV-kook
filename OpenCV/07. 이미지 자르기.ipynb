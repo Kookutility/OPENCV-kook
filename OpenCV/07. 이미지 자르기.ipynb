{
 "cells": [
  {
   "cell_type": "markdown",
   "id": "da8b9642",
   "metadata": {},
   "source": [
    "# 7.이미지 자르기"
   ]
  },
  {
   "cell_type": "markdown",
   "id": "8fdb5793",
   "metadata": {},
   "source": [
    "영역을 잘라서 새로운 윈도우(창)에 표시"
   ]
  },
  {
   "cell_type": "code",
   "execution_count": 8,
   "id": "6bcd62ea",
   "metadata": {},
   "outputs": [],
   "source": [
    "import cv2\n",
    "img = cv2.imread('img.jpg')\n",
    "#img.shape(391, 640, 3)\n",
    "\n",
    "crop = img[100:200, 200:400] # 새로기준 100 : 200 까지, 가로기준 300 : 400 까지 자르기\n",
    "\n",
    "cv2.imshow('img',img)\n",
    "cv2.imshow('crop',crop)\n",
    "cv2.waitKey(0)\n",
    "cv2.destroyAllWindows()"
   ]
  },
  {
   "cell_type": "markdown",
   "id": "8f1df74f",
   "metadata": {},
   "source": [
    "영역을 잘라서 기존 윈도우에 표시\n"
   ]
  },
  {
   "cell_type": "code",
   "execution_count": 10,
   "id": "c00c8972",
   "metadata": {},
   "outputs": [],
   "source": [
    "import cv2\n",
    "img = cv2.imread('img.jpg')\n",
    "\n",
    "crop = img[100:200, 200:400] # 새로기준 100 : 200 까지, 가로기준 300 : 400 까지 자르기\n",
    "img[100:200,400:600] = crop\n",
    "\n",
    "cv2.imshow('img',img)\n",
    "cv2.waitKey(0)\n",
    "cv2.destroyAllWindows()"
   ]
  }
 ],
 "metadata": {
  "kernelspec": {
   "display_name": "Python 3 (ipykernel)",
   "language": "python",
   "name": "python3"
  },
  "language_info": {
   "codemirror_mode": {
    "name": "ipython",
    "version": 3
   },
   "file_extension": ".py",
   "mimetype": "text/x-python",
   "name": "python",
   "nbconvert_exporter": "python",
   "pygments_lexer": "ipython3",
   "version": "3.11.4"
  }
 },
 "nbformat": 4,
 "nbformat_minor": 5
}
