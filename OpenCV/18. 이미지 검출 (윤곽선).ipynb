{
 "cells": [
  {
   "cell_type": "markdown",
   "id": "66381efe",
   "metadata": {},
   "source": [
    "# 18.이미지 검출 (윤곽선)"
   ]
  },
  {
   "cell_type": "markdown",
   "id": "c80a63ea",
   "metadata": {},
   "source": [
    "## 윤곽선 (Contour): 경계선을 연결한 선"
   ]
  },
  {
   "cell_type": "code",
   "execution_count": 3,
   "id": "a6f5dd89",
   "metadata": {},
   "outputs": [],
   "source": [
    "import cv2\n",
    "img = cv2.imread('card.png')\n",
    "target_img = img.copy() # 사본 이미지\n",
    "\n",
    "gray = cv2.cvtColor(img,cv2.COLOR_BGR2GRAY)\n",
    "ret, otsu = cv2.threshold(gray,-1,255,cv2.THRESH_BINARY | cv2.THRESH_OTSU)\n",
    "\n",
    "contours, hierachy = cv2.findContours(otsu,cv2.RETR_LIST,cv2.CHAIN_APPROX_NONE)\n",
    "#윤곽선 정보, 윤곽선구조 = \n",
    "#대상이미지, 윤곽선 찾는 모드 (RETR_LIST), 윤곽선을 찾을때 사용하는 근사치 방법\n",
    "\n",
    "COLOR = (0,200,0) # 녹색\n",
    "cv2.drawContours(target_img,contours,-1,COLOR,2) # 윤곽선 그리기 -1 -> 모든 윤곽선그리기\n",
    "# 대상 이미지, 윤곽선 정보, 인덱스(-1은전체), 색깔, 두께\n",
    "\n",
    "cv2.imshow('img',img)\n",
    "cv2.imshow('gray',gray)\n",
    "cv2.imshow('otsu',otsu)\n",
    "cv2.imshow('target_image',target_img)\n",
    "cv2.waitKey(0)\n",
    "cv2.destroyAllWindows()\n"
   ]
  },
  {
   "cell_type": "markdown",
   "id": "590efa08",
   "metadata": {},
   "source": [
    "### 윤곽선 찾기 모드\n",
    "1. cv2.RETR_EXTERNAL : 가장 외곽의 윤곽선만 찾음\n",
    "1. cv2.RETR_LIST : 모든 윤곽선 찾음 (계층 정보 없음)\n",
    "1. cv2.RETR_TREE : 모든 윤곽선 찾음 (계층 정보를 트리 구조로 생성)\n"
   ]
  },
  {
   "cell_type": "code",
   "execution_count": 13,
   "id": "77396c6a",
   "metadata": {},
   "outputs": [],
   "source": [
    "import cv2\n",
    "img = cv2.imread('card.png')\n",
    "target_img = img.copy() # 사본 이미지\n",
    "\n",
    "gray = cv2.cvtColor(img,cv2.COLOR_BGR2GRAY)\n",
    "ret, otsu = cv2.threshold(gray,-1,255,cv2.THRESH_BINARY | cv2.THRESH_OTSU)\n",
    "\n",
    "#contours, hierachy = cv2.findContours(otsu,cv2.RETR_LIST,cv2.CHAIN_APPROX_NONE)\n",
    "\n",
    "contours, hierachy = cv2.findContours(otsu,cv2.RETR_EXTERNAL,cv2.CHAIN_APPROX_NONE)\n",
    "#print(hierachy)\n",
    "#print(f'총 발견 갯수 : {len(contours)} ')\n",
    "COLOR = (0,200,0) # 녹색\n",
    "cv2.drawContours(target_img,contours,-1,COLOR,2)\n",
    "\n",
    "cv2.imshow('img',img)\n",
    "cv2.imshow('gray',gray)\n",
    "cv2.imshow('otsu',otsu)\n",
    "cv2.imshow('target_image',target_img)\n",
    "cv2.waitKey(0)\n",
    "cv2.destroyAllWindows()\n"
   ]
  },
  {
   "cell_type": "markdown",
   "id": "2a1862a9",
   "metadata": {},
   "source": [
    "## 경계 사각형\n",
    "윤곽선의 경계면을 둘러싸는 사각형\n",
    ">boundingRect()\n"
   ]
  },
  {
   "cell_type": "code",
   "execution_count": 15,
   "id": "a69f3ae5",
   "metadata": {},
   "outputs": [],
   "source": [
    "import cv2\n",
    "img = cv2.imread('card.png')\n",
    "target_img = img.copy() # 사본 이미지\n",
    "\n",
    "gray = cv2.cvtColor(img,cv2.COLOR_BGR2GRAY)\n",
    "ret, otsu = cv2.threshold(gray,-1,255,cv2.THRESH_BINARY | cv2.THRESH_OTSU)\n",
    "\n",
    "\n",
    "contours, hierachy = cv2.findContours(otsu,cv2.RETR_LIST,cv2.CHAIN_APPROX_NONE)\n",
    "\n",
    "COLOR = (0,200,0) # 녹색\n",
    "for cnt in contours:\n",
    "\n",
    "    x,y,width,height = cv2.boundingRect(cnt)\n",
    "    cv2.rectangle(target_img, (x,y),(x+width,y+height),COLOR,2)#사각형 그림\n",
    "\n",
    "cv2.imshow('img',img)\n",
    "cv2.imshow('gray',gray)\n",
    "cv2.imshow('otsu',otsu)\n",
    "cv2.imshow('target_image',target_img)\n",
    "cv2.waitKey(0)\n",
    "cv2.destroyAllWindows()"
   ]
  },
  {
   "cell_type": "markdown",
   "id": "5c24019c",
   "metadata": {},
   "source": [
    "## 면적\n",
    ">contourArea()"
   ]
  },
  {
   "cell_type": "code",
   "execution_count": 14,
   "id": "33201f57",
   "metadata": {},
   "outputs": [],
   "source": [
    "import cv2\n",
    "img = cv2.imread('card.png')\n",
    "target_img = img.copy() # 사본 이미지\n",
    "\n",
    "gray = cv2.cvtColor(img,cv2.COLOR_BGR2GRAY)\n",
    "ret, otsu = cv2.threshold(gray,-1,255,cv2.THRESH_BINARY | cv2.THRESH_OTSU)\n",
    "\n",
    "\n",
    "contours, hierachy = cv2.findContours(otsu,cv2.RETR_LIST,cv2.CHAIN_APPROX_NONE)\n",
    "\n",
    "COLOR = (0,200,0) # 녹색\n",
    "for cnt in contours:\n",
    "    if cv2.contourArea(cnt) > 25000: #120 * 250\n",
    "        x,y,width,height = cv2.boundingRect(cnt)\n",
    "        cv2.rectangle(target_img, (x,y),(x+width,y+height),COLOR,2)#사각형 그림\n",
    "\n",
    "cv2.imshow('img',img)\n",
    "cv2.imshow('target_image',target_img)\n",
    "cv2.waitKey(0)\n",
    "cv2.destroyAllWindows()"
   ]
  },
  {
   "cell_type": "markdown",
   "id": "4c5a772b",
   "metadata": {},
   "source": [
    "## 미니 프로젝트 : 개별 카드 추출해서 파일 저장"
   ]
  },
  {
   "cell_type": "code",
   "execution_count": null,
   "id": "14a64d59",
   "metadata": {},
   "outputs": [],
   "source": [
    "import cv2\n",
    "img = cv2.imread('card.png')\n",
    "target_img = img.copy() # 사본 이미지\n",
    "\n",
    "gray = cv2.cvtColor(img,cv2.COLOR_BGR2GRAY)\n",
    "ret, otsu = cv2.threshold(gray,-1,255,cv2.THRESH_BINARY | cv2.THRESH_OTSU)\n",
    "\n",
    "\n",
    "contours, hierachy = cv2.findContours(otsu,cv2.RETR_LIST,cv2.CHAIN_APPROX_NONE)\n",
    "\n",
    "COLOR = (0,200,0) # 녹색\n",
    "\n",
    "idx = 1\n",
    "for cnt in contours:\n",
    "    if cv2.contourArea(cnt) > 25000: #120 * 250\n",
    "        x,y,width,height = cv2.boundingRect(cnt)\n",
    "        cv2.rectangle(target_img, (x,y),(x+width,y+height),COLOR,2)#사각형 그림\n",
    "        \n",
    "        crop = img[y:y+height, x:x+width]\n",
    "        cv2.imshow(f'card_crop_{idx}',crop)\n",
    "        cv2.imwrite(f'card_drop_{idx}.png',crop)\n",
    "        idx +=1\n",
    "cv2.imshow('img',img)\n",
    "cv2.imshow('target_image',target_img)\n",
    "cv2.waitKey(0)\n",
    "cv2.destroyAllWindows()"
   ]
  }
 ],
 "metadata": {
  "kernelspec": {
   "display_name": "Python 3 (ipykernel)",
   "language": "python",
   "name": "python3"
  },
  "language_info": {
   "codemirror_mode": {
    "name": "ipython",
    "version": 3
   },
   "file_extension": ".py",
   "mimetype": "text/x-python",
   "name": "python",
   "nbconvert_exporter": "python",
   "pygments_lexer": "ipython3",
   "version": "3.11.4"
  }
 },
 "nbformat": 4,
 "nbformat_minor": 5
}
